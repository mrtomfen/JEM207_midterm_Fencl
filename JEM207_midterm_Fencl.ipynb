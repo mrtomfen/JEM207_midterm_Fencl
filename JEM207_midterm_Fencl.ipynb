{
 "cells": [
  {
   "cell_type": "code",
   "execution_count": 2,
   "id": "797736ba-d0d0-46dd-9669-c5f3a2f564ea",
   "metadata": {},
   "outputs": [],
   "source": [
    "#JEM207 midterm Tomáš Fencl, 29th November 2021\n",
    "\n",
    "import numpy as np\n",
    "import pandas as pd\n",
    "import time\n",
    "import requests\n",
    "import json\n",
    "from bs4 import BeautifulSoup\n",
    "import matplotlib.pyplot as plt\n",
    "from IPython.core.display import HTML, display"
   ]
  },
  {
   "cell_type": "code",
   "execution_count": 7,
   "id": "00e7541d-f226-40c3-a618-1c721069f80c",
   "metadata": {},
   "outputs": [
    {
     "data": {
      "text/plain": [
       "{'data': {'personal_code': '94c6b733',\n",
       "  'dataset_ids': ['779ce2818b',\n",
       "   '5df3513c79',\n",
       "   '8c34bdfc03',\n",
       "   '288b147f95',\n",
       "   '7be200ce5b',\n",
       "   'f561ba0da6']},\n",
       " 'message': 'Hello, Fencl Tomáš! Good luck with the midterm. GET your data set from /data/file_id endpoint; use the codes you received in the data response as the file_id parameter! Print the personal code in your notebook.'}"
      ]
     },
     "execution_count": 7,
     "metadata": {},
     "output_type": "execute_result"
    }
   ],
   "source": [
    "url = \"https://ies-midterm.soulution.rocks/login\"\n",
    "auth = {\"cuni\":\"59887895\"}\n",
    "req = requests.post(url,json=auth).json()\n",
    "req\n"
   ]
  },
  {
   "cell_type": "code",
   "execution_count": 8,
   "id": "68bc9c50-ca03-436b-ad6e-33f29e6ecb46",
   "metadata": {},
   "outputs": [
    {
     "name": "stdout",
     "output_type": "stream",
     "text": [
      "personal_code is: 94c6b733\n"
     ]
    }
   ],
   "source": [
    "print(\"personal_code is: \"+req[\"data\"][\"personal_code\"])"
   ]
  },
  {
   "cell_type": "code",
   "execution_count": 9,
   "id": "7c46f814-8550-4769-8145-1602cf228a54",
   "metadata": {},
   "outputs": [
    {
     "name": "stdout",
     "output_type": "stream",
     "text": [
      "\n"
     ]
    }
   ],
   "source": [
    "idcodes = req[\"data\"][\"dataset_ids\"]\n",
    "mydata_witherr = []                               \n",
    "for i in idcodes:\n",
    "    part = requests.get(f\"https://ies-midterm.soulution.rocks/data/{i}\").json()\n",
    "    mydata_witherr.append(part)\n",
    "df_witherr = pd.DataFrame(mydata_witherr)\n",
    "#print(df_witherr.head()) #I have error in data (\"_witherr\"), gotta handle that\n",
    "print(df_witherr.iloc[1][\"message\"]) #this is the error message"
   ]
  },
  {
   "cell_type": "code",
   "execution_count": 11,
   "id": "dbc9cad8-f3ef-4f4f-901e-a73e0cdac189",
   "metadata": {},
   "outputs": [
    {
     "data": {
      "text/html": [
       "<div>\n",
       "<style scoped>\n",
       "    .dataframe tbody tr th:only-of-type {\n",
       "        vertical-align: middle;\n",
       "    }\n",
       "\n",
       "    .dataframe tbody tr th {\n",
       "        vertical-align: top;\n",
       "    }\n",
       "\n",
       "    .dataframe thead th {\n",
       "        text-align: right;\n",
       "    }\n",
       "</style>\n",
       "<table border=\"1\" class=\"dataframe\">\n",
       "  <thead>\n",
       "    <tr style=\"text-align: right;\">\n",
       "      <th></th>\n",
       "      <th>data</th>\n",
       "      <th>message</th>\n",
       "    </tr>\n",
       "  </thead>\n",
       "  <tbody>\n",
       "    <tr>\n",
       "      <th>0</th>\n",
       "      <td>{'company': 'CRH', 'data': [{'Date': '2019-01-...</td>\n",
       "      <td></td>\n",
       "    </tr>\n",
       "    <tr>\n",
       "      <th>1</th>\n",
       "      <td>{'company': 'CRH', 'data': [{'Date': '2019-01-...</td>\n",
       "      <td></td>\n",
       "    </tr>\n",
       "    <tr>\n",
       "      <th>2</th>\n",
       "      <td>{'company': 'CRH', 'data': [{'Date': '2019-01-...</td>\n",
       "      <td></td>\n",
       "    </tr>\n",
       "    <tr>\n",
       "      <th>3</th>\n",
       "      <td>{'company': 'CRH', 'data': [{'Date': '2019-01-...</td>\n",
       "      <td></td>\n",
       "    </tr>\n",
       "    <tr>\n",
       "      <th>4</th>\n",
       "      <td>{'company': 'CRH', 'data': [{'Date': '2019-01-...</td>\n",
       "      <td></td>\n",
       "    </tr>\n",
       "  </tbody>\n",
       "</table>\n",
       "</div>"
      ],
      "text/plain": [
       "                                                data message\n",
       "0  {'company': 'CRH', 'data': [{'Date': '2019-01-...        \n",
       "1  {'company': 'CRH', 'data': [{'Date': '2019-01-...        \n",
       "2  {'company': 'CRH', 'data': [{'Date': '2019-01-...        \n",
       "3  {'company': 'CRH', 'data': [{'Date': '2019-01-...        \n",
       "4  {'company': 'CRH', 'data': [{'Date': '2019-01-...        "
      ]
     },
     "execution_count": 11,
     "metadata": {},
     "output_type": "execute_result"
    }
   ],
   "source": [
    "mydata = []\n",
    "errormess = {\"data\": {}, \"message\": \"Error [503] - Sorry, I just slipped and fell. Thank God, I am made of silicon. You need to work this out.\"}\n",
    "for i in idcodes:\n",
    "    finderr = requests.get(f\"https://ies-midterm.soulution.rocks/data/{i}\").text == errormess\n",
    "    while finderr:\n",
    "        part = requests.get(f\"https://ies-midterm.soulution.rocks/data/{i}\").json()\n",
    "    mydata.append(part)"
   ]
  },
  {
   "cell_type": "code",
   "execution_count": 15,
   "id": "b34192f3-70b2-4944-8bc5-abc47207fc72",
   "metadata": {},
   "outputs": [
    {
     "data": {
      "text/html": [
       "<div>\n",
       "<style scoped>\n",
       "    .dataframe tbody tr th:only-of-type {\n",
       "        vertical-align: middle;\n",
       "    }\n",
       "\n",
       "    .dataframe tbody tr th {\n",
       "        vertical-align: top;\n",
       "    }\n",
       "\n",
       "    .dataframe thead th {\n",
       "        text-align: right;\n",
       "    }\n",
       "</style>\n",
       "<table border=\"1\" class=\"dataframe\">\n",
       "  <thead>\n",
       "    <tr style=\"text-align: right;\">\n",
       "      <th></th>\n",
       "      <th>Date</th>\n",
       "      <th>Open</th>\n",
       "      <th>High</th>\n",
       "      <th>Low</th>\n",
       "      <th>Close</th>\n",
       "      <th>Adj.Close</th>\n",
       "      <th>Volume</th>\n",
       "    </tr>\n",
       "  </thead>\n",
       "  <tbody>\n",
       "    <tr>\n",
       "      <th>0</th>\n",
       "      <td>2019-01-02</td>\n",
       "      <td>26.030000686645508</td>\n",
       "      <td>26.5</td>\n",
       "      <td>25.989999771118164</td>\n",
       "      <td>26.389999389648438</td>\n",
       "      <td>24.962018966674805</td>\n",
       "      <td>742700</td>\n",
       "    </tr>\n",
       "    <tr>\n",
       "      <th>1</th>\n",
       "      <td>2019-01-03</td>\n",
       "      <td>26.190000534057617</td>\n",
       "      <td>26.309999465942383</td>\n",
       "      <td>25.809999465942383</td>\n",
       "      <td>26.049999237060547</td>\n",
       "      <td>24.640417098999023</td>\n",
       "      <td>814000</td>\n",
       "    </tr>\n",
       "    <tr>\n",
       "      <th>2</th>\n",
       "      <td>2019-01-04</td>\n",
       "      <td>27.049999237060547</td>\n",
       "      <td>27.6200008392334</td>\n",
       "      <td>26.93000030517578</td>\n",
       "      <td>27.549999237060547</td>\n",
       "      <td>26.059249877929688</td>\n",
       "      <td>951100</td>\n",
       "    </tr>\n",
       "    <tr>\n",
       "      <th>3</th>\n",
       "      <td>2019-01-07</td>\n",
       "      <td>27.06999969482422</td>\n",
       "      <td>27.510000228881836</td>\n",
       "      <td>26.93000030517578</td>\n",
       "      <td>27.350000381469727</td>\n",
       "      <td>25.870073318481445</td>\n",
       "      <td>837300</td>\n",
       "    </tr>\n",
       "    <tr>\n",
       "      <th>4</th>\n",
       "      <td>2019-01-08</td>\n",
       "      <td>27.690000534057617</td>\n",
       "      <td>27.739999771118164</td>\n",
       "      <td>27.309999465942383</td>\n",
       "      <td>27.510000228881836</td>\n",
       "      <td>26.02141571044922</td>\n",
       "      <td>548600</td>\n",
       "    </tr>\n",
       "    <tr>\n",
       "      <th>...</th>\n",
       "      <td>...</td>\n",
       "      <td>...</td>\n",
       "      <td>...</td>\n",
       "      <td>...</td>\n",
       "      <td>...</td>\n",
       "      <td>...</td>\n",
       "      <td>...</td>\n",
       "    </tr>\n",
       "    <tr>\n",
       "      <th>474</th>\n",
       "      <td>2020-11-17</td>\n",
       "      <td>39.779998779296875</td>\n",
       "      <td>40.13999938964844</td>\n",
       "      <td>39.38999938964844</td>\n",
       "      <td>40.099998474121094</td>\n",
       "      <td>40.099998474121094</td>\n",
       "      <td>268500</td>\n",
       "    </tr>\n",
       "    <tr>\n",
       "      <th>475</th>\n",
       "      <td>2020-11-18</td>\n",
       "      <td>40.439998626708984</td>\n",
       "      <td>40.58000183105469</td>\n",
       "      <td>39.95000076293945</td>\n",
       "      <td>39.959999084472656</td>\n",
       "      <td>39.959999084472656</td>\n",
       "      <td>260600</td>\n",
       "    </tr>\n",
       "    <tr>\n",
       "      <th>476</th>\n",
       "      <td>2020-11-19</td>\n",
       "      <td>39.56999969482422</td>\n",
       "      <td>39.83000183105469</td>\n",
       "      <td>39.27000045776367</td>\n",
       "      <td>39.779998779296875</td>\n",
       "      <td>39.779998779296875</td>\n",
       "      <td>263100</td>\n",
       "    </tr>\n",
       "    <tr>\n",
       "      <th>477</th>\n",
       "      <td>2020-11-20</td>\n",
       "      <td>39.47999954223633</td>\n",
       "      <td>39.869998931884766</td>\n",
       "      <td>39.40999984741211</td>\n",
       "      <td>39.65999984741211</td>\n",
       "      <td>39.65999984741211</td>\n",
       "      <td>250600</td>\n",
       "    </tr>\n",
       "    <tr>\n",
       "      <th>478</th>\n",
       "      <td></td>\n",
       "      <td>NaN</td>\n",
       "      <td>NaN</td>\n",
       "      <td>NaN</td>\n",
       "      <td>NaN</td>\n",
       "      <td>NaN</td>\n",
       "      <td>NaN</td>\n",
       "    </tr>\n",
       "  </tbody>\n",
       "</table>\n",
       "<p>479 rows × 7 columns</p>\n",
       "</div>"
      ],
      "text/plain": [
       "           Date                Open                High                 Low  \\\n",
       "0    2019-01-02  26.030000686645508                26.5  25.989999771118164   \n",
       "1    2019-01-03  26.190000534057617  26.309999465942383  25.809999465942383   \n",
       "2    2019-01-04  27.049999237060547    27.6200008392334   26.93000030517578   \n",
       "3    2019-01-07   27.06999969482422  27.510000228881836   26.93000030517578   \n",
       "4    2019-01-08  27.690000534057617  27.739999771118164  27.309999465942383   \n",
       "..          ...                 ...                 ...                 ...   \n",
       "474  2020-11-17  39.779998779296875   40.13999938964844   39.38999938964844   \n",
       "475  2020-11-18  40.439998626708984   40.58000183105469   39.95000076293945   \n",
       "476  2020-11-19   39.56999969482422   39.83000183105469   39.27000045776367   \n",
       "477  2020-11-20   39.47999954223633  39.869998931884766   39.40999984741211   \n",
       "478                             NaN                 NaN                 NaN   \n",
       "\n",
       "                  Close           Adj.Close  Volume  \n",
       "0    26.389999389648438  24.962018966674805  742700  \n",
       "1    26.049999237060547  24.640417098999023  814000  \n",
       "2    27.549999237060547  26.059249877929688  951100  \n",
       "3    27.350000381469727  25.870073318481445  837300  \n",
       "4    27.510000228881836   26.02141571044922  548600  \n",
       "..                  ...                 ...     ...  \n",
       "474  40.099998474121094  40.099998474121094  268500  \n",
       "475  39.959999084472656  39.959999084472656  260600  \n",
       "476  39.779998779296875  39.779998779296875  263100  \n",
       "477   39.65999984741211   39.65999984741211  250600  \n",
       "478                 NaN                 NaN     NaN  \n",
       "\n",
       "[479 rows x 7 columns]"
      ]
     },
     "execution_count": 15,
     "metadata": {},
     "output_type": "execute_result"
    }
   ],
   "source": [
    "datastr = str(mydata[5])\n",
    "data_final=eval(datastr)\n",
    "pd.DataFrame(data_final[\"data\"][\"data\"])"
   ]
  },
  {
   "cell_type": "code",
   "execution_count": 16,
   "id": "91b0dadd-fb60-4f5e-8b60-916efafe55a4",
   "metadata": {},
   "outputs": [],
   "source": [
    "#I could not do more in a time"
   ]
  },
  {
   "cell_type": "code",
   "execution_count": 17,
   "id": "d48c396d-a6c9-48e7-ae15-f3b74574ddbd",
   "metadata": {},
   "outputs": [],
   "source": [
    "#I forgot dropna the data"
   ]
  },
  {
   "cell_type": "code",
   "execution_count": null,
   "id": "cc0b168f-eec2-4434-8762-ed148e917386",
   "metadata": {},
   "outputs": [],
   "source": []
  }
 ],
 "metadata": {
  "kernelspec": {
   "display_name": "Python 3",
   "language": "python",
   "name": "python3"
  },
  "language_info": {
   "codemirror_mode": {
    "name": "ipython",
    "version": 3
   },
   "file_extension": ".py",
   "mimetype": "text/x-python",
   "name": "python",
   "nbconvert_exporter": "python",
   "pygments_lexer": "ipython3",
   "version": "3.8.8"
  }
 },
 "nbformat": 4,
 "nbformat_minor": 5
}
